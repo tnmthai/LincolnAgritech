{
 "cells": [
  {
   "cell_type": "code",
   "execution_count": null,
   "metadata": {},
   "outputs": [],
   "source": [
    "import streamlit as st\n",
    "\n",
    "import geemap, ee\n",
    "import geopandas as gpd\n",
    "from shapely.geometry import Polygon\n",
    "\n",
    "st.set_page_config(layout=\"wide\")\n",
    "@st.cache_data\n",
    "def ee_authenticate(token_name=\"EARTHENGINE_TOKEN\"):\n",
    "    geemap.ee_initialize(token_name=token_name)\n",
    "\n",
    "def getNDVI(image):    \n",
    "    # Normalized difference vegetation index (NDVI)\n",
    "    ndvi = image.normalizedDifference(['B8','B4']).rename(\"NDVI\")\n",
    "    image = image.addBands(ndvi)\n",
    "\n",
    "    return(image)\n",
    "\n",
    "def addDate(image):\n",
    "    img_date = ee.Date(image.date())\n",
    "    img_date = ee.Number.parse(img_date.format('YYYYMMdd'))\n",
    "    return image.addBands(ee.Image(img_date).rename('date').toInt())\n",
    "\n",
    "\n",
    "st.title(\"NDVI Map Canterbury Region\")\n",
    "ee_authenticate(token_name=\"EARTHENGINE_TOKEN\")\n",
    "\n",
    "aoi = ee.FeatureCollection(\"FAO/GAUL/2015/level1\").filter(ee.Filter.eq('ADM1_NAME','Canterbury')).geometry()\n",
    "\n",
    "NDVI_data = ee.ImageCollection('COPERNICUS/S2_SR').filterDate(\"2023-01-01\",\"2023-01-31\").filterBounds(aoi) \\\n",
    "    .map(getNDVI).map(addDate).max()\n",
    "\n",
    "color = ['FFFFFF', 'CE7E45', 'DF923D', 'F1B555', 'FCD163', '99B718',\n",
    "               '74A901', '66A000', '529400', '3E8601', '207401', '056201',\n",
    "               '004C00', '023B01', '012E01', '011D01', '011301']\n",
    "pallete = {\"min\":0, \"max\":1, 'palette':color}\n",
    "# initialize our map\n",
    "map1 = geemap.Map()\n",
    "map1.centerObject(aoi, 7)\n",
    "map1.addLayer(NDVI_data.clip(aoi).select('NDVI'), pallete, \"NDVI-Canterbury\")\n",
    "\n",
    "map1.addLayerControl()\n",
    "map1\n",
    "\n",
    "# map1.to_streamlit(height=700)\n"
   ]
  },
  {
   "cell_type": "code",
   "execution_count": null,
   "metadata": {},
   "outputs": [],
   "source": [
    "ee_authenticate(token_name=\"EARTHENGINE_TOKEN\")\n",
    "\n",
    "aoi = ee.FeatureCollection(\"FAO/GAUL/2015/level1\").filter(ee.Filter.eq('ADM1_NAME','Canterbury')).geometry()\n",
    "\n",
    "coordcan = aoi.coordinates().getInfo()\n",
    "# polygons = [Polygon(polygon_coords) for polygon_coords in coordcan]"
   ]
  },
  {
   "cell_type": "code",
   "execution_count": 11,
   "metadata": {},
   "outputs": [],
   "source": [
    "import datetime\n",
    "roi_start_time = datetime.time(14, 00)\n",
    "roi_end_time = datetime.time(1, 00)"
   ]
  },
  {
   "cell_type": "code",
   "execution_count": 12,
   "metadata": {},
   "outputs": [
    {
     "data": {
      "text/plain": [
       "(datetime.time(14, 0), datetime.time(1, 0))"
      ]
     },
     "execution_count": 12,
     "metadata": {},
     "output_type": "execute_result"
    }
   ],
   "source": [
    "roi_start_time, roi_end_time"
   ]
  },
  {
   "cell_type": "code",
   "execution_count": 23,
   "metadata": {},
   "outputs": [
    {
     "name": "stdout",
     "output_type": "stream",
     "text": [
      "['01-2022', '02-2022', '03-2022', '04-2022', '05-2022', '06-2022', '07-2022', '08-2022', '09-2022', '10-2022', '11-2022', '12-2022', '01-2023', '02-2023', '03-2023', '04-2023', '05-2023', '06-2023', '07-2023', '08-2023', '09-2023', '10-2023', '11-2023', '12-2023']\n"
     ]
    }
   ],
   "source": [
    "from dateutil.rrule import rrule, MONTHLY\n",
    "from datetime import datetime\n",
    "\n",
    "start_date = datetime.strptime(\"2022-01-01\", \"%Y-%m-%d\")\n",
    "end_date = datetime.strptime(\"2023-12-31\", \"%Y-%m-%d\")\n",
    "\n",
    "months = [dt.strftime(\"%m-%Y\") for dt in rrule(MONTHLY, dtstart=start_date, until=end_date)]\n",
    "print(months)\n"
   ]
  },
  {
   "cell_type": "code",
   "execution_count": null,
   "metadata": {},
   "outputs": [],
   "source": [
    "import streamlit as st\n",
    "import datetime as dt\n",
    "import pandas as pd\n",
    "from dateutil.relativedelta import relativedelta # to add days or years\n",
    "\n",
    "\n",
    "## Range selector\n",
    "cols1,_ = st.beta_columns((1,2)) # To make it narrower\n",
    "format = 'MMM DD, YYYY'  # format output\n",
    "start_date = dt.date(year=2021,month=1,day=1)-relativedelta(years=2)  #  I need some range in the past\n",
    "end_date = dt.datetime.now().date()-relativedelta(years=2)\n",
    "max_days = end_date-start_date\n",
    "\n",
    "slider = cols1.slider('Select date', min_value=start_date, value=end_date ,max_value=end_date, format=format)\n",
    "## Sanity check\n",
    "st.table(pd.DataFrame([[start_date, slider, end_date]],\n",
    "                columns=['start',\n",
    "                        'selected',\n",
    "                        'end'],\n",
    "                index=['date']))"
   ]
  }
 ],
 "metadata": {
  "kernelspec": {
   "display_name": "geosense",
   "language": "python",
   "name": "python3"
  },
  "language_info": {
   "codemirror_mode": {
    "name": "ipython",
    "version": 3
   },
   "file_extension": ".py",
   "mimetype": "text/x-python",
   "name": "python",
   "nbconvert_exporter": "python",
   "pygments_lexer": "ipython3",
   "version": "3.10.11"
  },
  "orig_nbformat": 4
 },
 "nbformat": 4,
 "nbformat_minor": 2
}
