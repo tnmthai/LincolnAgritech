{
 "cells": [
  {
   "cell_type": "code",
   "execution_count": 3,
   "metadata": {},
   "outputs": [
    {
     "name": "stderr",
     "output_type": "stream",
     "text": [
      "2023-05-29 15:02:58.756 No runtime found, using MemoryCacheStorageManager\n"
     ]
    },
    {
     "data": {
      "application/vnd.jupyter.widget-view+json": {
       "model_id": "3a883f4106ad44a6a255f6ade58cbc64",
       "version_major": 2,
       "version_minor": 0
      },
      "text/plain": [
       "Map(center=[-43.64309971284063, 171.44533925780135], controls=(WidgetControl(options=['position', 'transparent…"
      ]
     },
     "execution_count": 3,
     "metadata": {},
     "output_type": "execute_result"
    }
   ],
   "source": [
    "import streamlit as st\n",
    "\n",
    "import geemap, ee\n",
    "import geopandas as gpd\n",
    "from shapely.geometry import Polygon\n",
    "\n",
    "st.set_page_config(layout=\"wide\")\n",
    "@st.cache_data\n",
    "def ee_authenticate(token_name=\"EARTHENGINE_TOKEN\"):\n",
    "    geemap.ee_initialize(token_name=token_name)\n",
    "\n",
    "def getNDVI(image):    \n",
    "    # Normalized difference vegetation index (NDVI)\n",
    "    ndvi = image.normalizedDifference(['B8','B4']).rename(\"NDVI\")\n",
    "    image = image.addBands(ndvi)\n",
    "\n",
    "    return(image)\n",
    "\n",
    "def addDate(image):\n",
    "    img_date = ee.Date(image.date())\n",
    "    img_date = ee.Number.parse(img_date.format('YYYYMMdd'))\n",
    "    return image.addBands(ee.Image(img_date).rename('date').toInt())\n",
    "\n",
    "\n",
    "st.title(\"NDVI Map Canterbury Region\")\n",
    "ee_authenticate(token_name=\"EARTHENGINE_TOKEN\")\n",
    "\n",
    "aoi = ee.FeatureCollection(\"FAO/GAUL/2015/level1\").filter(ee.Filter.eq('ADM1_NAME','Canterbury')).geometry()\n",
    "\n",
    "NDVI_data = ee.ImageCollection('COPERNICUS/S2_SR').filterDate(\"2023-01-01\",\"2023-01-31\").filterBounds(aoi) \\\n",
    "    .map(getNDVI).map(addDate).median()\n",
    "\n",
    "color = ['FFFFFF', 'CE7E45', 'DF923D', 'F1B555', 'FCD163', '99B718',\n",
    "               '74A901', '66A000', '529400', '3E8601', '207401', '056201',\n",
    "               '004C00', '023B01', '012E01', '011D01', '011301']\n",
    "pallete = {\"min\":0, \"max\":1, 'palette':color}\n",
    "# initialize our map\n",
    "map1 = geemap.Map()\n",
    "map1.centerObject(aoi, 7)\n",
    "map1.addLayer(NDVI_data.clip(aoi).select('NDVI'), pallete, \"NDVI-Canterbury\")\n",
    "\n",
    "map1.addLayerControl()\n",
    "map1\n",
    "\n",
    "# map1.to_streamlit(height=700)\n"
   ]
  },
  {
   "cell_type": "code",
   "execution_count": 28,
   "metadata": {},
   "outputs": [],
   "source": [
    "ee_authenticate(token_name=\"EARTHENGINE_TOKEN\")\n",
    "\n",
    "aoi = ee.FeatureCollection(\"FAO/GAUL/2015/level1\").filter(ee.Filter.eq('ADM1_NAME','Canterbury')).geometry()\n",
    "\n",
    "coordcan = aoi.coordinates().getInfo()\n",
    "# polygons = [Polygon(polygon_coords) for polygon_coords in coordcan]"
   ]
  },
  {
   "cell_type": "code",
   "execution_count": 25,
   "metadata": {},
   "outputs": [],
   "source": [
    "import geopandas as gpd\n",
    "shp = gpd.read_file(\"../data/nzshp/Canterbury.shp\")\n",
    "gdf = shp.to_crs({'init': 'epsg:4326'}) \n",
    "\n",
    "can = []\n",
    "for index, row in gdf.iterrows():\n",
    "    for pt in list(row['geometry'].exterior.coords): \n",
    "        can.append(list(pt))"
   ]
  },
  {
   "cell_type": "code",
   "execution_count": 41,
   "metadata": {},
   "outputs": [
    {
     "ename": "TypeError",
     "evalue": "'List' object is not subscriptable",
     "output_type": "error",
     "traceback": [
      "\u001b[1;31m---------------------------------------------------------------------------\u001b[0m",
      "\u001b[1;31mTypeError\u001b[0m                                 Traceback (most recent call last)",
      "Cell \u001b[1;32mIn[41], line 1\u001b[0m\n\u001b[1;32m----> 1\u001b[0m aoi\u001b[39m.\u001b[39;49mcoordinates()[\u001b[39m0\u001b[39;49m]\n",
      "\u001b[1;31mTypeError\u001b[0m: 'List' object is not subscriptable"
     ]
    }
   ],
   "source": [
    "aoi.coordinates()"
   ]
  },
  {
   "cell_type": "code",
   "execution_count": 34,
   "metadata": {},
   "outputs": [
    {
     "data": {
      "text/plain": [
       "173000"
      ]
     },
     "execution_count": 34,
     "metadata": {},
     "output_type": "execute_result"
    }
   ],
   "source": [
    "can.__sizeof__()"
   ]
  }
 ],
 "metadata": {
  "kernelspec": {
   "display_name": "geosense",
   "language": "python",
   "name": "python3"
  },
  "language_info": {
   "codemirror_mode": {
    "name": "ipython",
    "version": 3
   },
   "file_extension": ".py",
   "mimetype": "text/x-python",
   "name": "python",
   "nbconvert_exporter": "python",
   "pygments_lexer": "ipython3",
   "version": "3.10.11"
  },
  "orig_nbformat": 4
 },
 "nbformat": 4,
 "nbformat_minor": 2
}
