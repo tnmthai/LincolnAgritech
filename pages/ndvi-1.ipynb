{
 "cells": [
  {
   "cell_type": "code",
   "execution_count": null,
   "metadata": {},
   "outputs": [],
   "source": [
    "import streamlit as st\n",
    "\n",
    "import geemap, ee\n",
    "import geopandas as gpd\n",
    "from shapely.geometry import Polygon\n",
    "\n",
    "st.set_page_config(layout=\"wide\")\n",
    "@st.cache_data\n",
    "def ee_authenticate(token_name=\"EARTHENGINE_TOKEN\"):\n",
    "    geemap.ee_initialize(token_name=token_name)\n",
    "\n",
    "def getNDVI(image):    \n",
    "    # Normalized difference vegetation index (NDVI)\n",
    "    ndvi = image.normalizedDifference(['B8','B4']).rename(\"NDVI\")\n",
    "    image = image.addBands(ndvi)\n",
    "\n",
    "    return(image)\n",
    "\n",
    "def addDate(image):\n",
    "    img_date = ee.Date(image.date())\n",
    "    img_date = ee.Number.parse(img_date.format('YYYYMMdd'))\n",
    "    return image.addBands(ee.Image(img_date).rename('date').toInt())\n",
    "\n",
    "\n",
    "st.title(\"NDVI Map Canterbury Region\")\n",
    "ee_authenticate(token_name=\"EARTHENGINE_TOKEN\")\n",
    "\n",
    "aoi = ee.FeatureCollection(\"FAO/GAUL/2015/level1\").filter(ee.Filter.eq('ADM1_NAME','Canterbury')).geometry()\n",
    "\n",
    "NDVI_data = ee.ImageCollection('COPERNICUS/S2_SR').filterDate(\"2023-01-01\",\"2023-01-31\").filterBounds(aoi) \\\n",
    "    .map(getNDVI).map(addDate).max()\n",
    "\n",
    "color = ['FFFFFF', 'CE7E45', 'DF923D', 'F1B555', 'FCD163', '99B718',\n",
    "               '74A901', '66A000', '529400', '3E8601', '207401', '056201',\n",
    "               '004C00', '023B01', '012E01', '011D01', '011301']\n",
    "pallete = {\"min\":0, \"max\":1, 'palette':color}\n",
    "# initialize our map\n",
    "map1 = geemap.Map()\n",
    "map1.centerObject(aoi, 7)\n",
    "map1.addLayer(NDVI_data.clip(aoi).select('NDVI'), pallete, \"NDVI-Canterbury\")\n",
    "\n",
    "map1.addLayerControl()\n",
    "map1\n",
    "\n",
    "# map1.to_streamlit(height=700)\n"
   ]
  },
  {
   "cell_type": "code",
   "execution_count": null,
   "metadata": {},
   "outputs": [],
   "source": [
    "ee_authenticate(token_name=\"EARTHENGINE_TOKEN\")\n",
    "\n",
    "aoi = ee.FeatureCollection(\"FAO/GAUL/2015/level1\").filter(ee.Filter.eq('ADM1_NAME','Canterbury')).geometry()\n",
    "\n",
    "coordcan = aoi.coordinates().getInfo()\n",
    "# polygons = [Polygon(polygon_coords) for polygon_coords in coordcan]"
   ]
  },
  {
   "cell_type": "code",
   "execution_count": 10,
   "metadata": {},
   "outputs": [
    {
     "ename": "AttributeError",
     "evalue": "module 'geemap' has no attribute 'chart'",
     "output_type": "error",
     "traceback": [
      "\u001b[1;31m---------------------------------------------------------------------------\u001b[0m",
      "\u001b[1;31mAttributeError\u001b[0m                            Traceback (most recent call last)",
      "Cell \u001b[1;32mIn[10], line 20\u001b[0m\n\u001b[0;32m     16\u001b[0m     \u001b[39mreturn\u001b[39;00m image\u001b[39m.\u001b[39maddBands(ndvi)\n\u001b[0;32m     18\u001b[0m ndvi_collection \u001b[39m=\u001b[39m filtered\u001b[39m.\u001b[39mmap(calculate_ndvi)\n\u001b[1;32m---> 20\u001b[0m chart \u001b[39m=\u001b[39m geemap\u001b[39m.\u001b[39;49mchart(ndvi_collection, region\u001b[39m=\u001b[39mroi\u001b[39m.\u001b[39mgeometry(), reducer\u001b[39m=\u001b[39mee\u001b[39m.\u001b[39mReducer\u001b[39m.\u001b[39mmean(), scale\u001b[39m=\u001b[39m\u001b[39m10\u001b[39m)\n\u001b[0;32m     21\u001b[0m chart\u001b[39m.\u001b[39mstyle(width\u001b[39m=\u001b[39m\u001b[39m'\u001b[39m\u001b[39m800px\u001b[39m\u001b[39m'\u001b[39m, height\u001b[39m=\u001b[39m\u001b[39m'\u001b[39m\u001b[39m300px\u001b[39m\u001b[39m'\u001b[39m, position\u001b[39m=\u001b[39m\u001b[39m'\u001b[39m\u001b[39mbottomright\u001b[39m\u001b[39m'\u001b[39m)\n\u001b[0;32m     23\u001b[0m Map\u001b[39m.\u001b[39madd_child(chart)\n",
      "\u001b[1;31mAttributeError\u001b[0m: module 'geemap' has no attribute 'chart'"
     ]
    }
   ],
   "source": [
    "import geemap #.foliumap as geemap\n",
    "import ee\n",
    "Map = geemap.Map()\n",
    "\n",
    "# roi = Map.draw_last_feature()\n",
    "\n",
    "roi = ee.FeatureCollection(\"FAO/GAUL/2015/level1\").filter(ee.Filter.eq('ADM1_NAME','Canterbury'))\n",
    "sentinel2 = geemap.ee.ImageCollection('COPERNICUS/S2_SR')\n",
    "\n",
    "start_date = '2022-01-01'\n",
    "end_date = '2022-12-31'\n",
    "\n",
    "filtered = sentinel2.filterBounds(roi.geometry()).filterDate(start_date, end_date)\n",
    "def calculate_ndvi(image):\n",
    "    ndvi = image.normalizedDifference(['B8', 'B4']).rename('NDVI')\n",
    "    return image.addBands(ndvi)\n",
    "\n",
    "ndvi_collection = filtered.map(calculate_ndvi)\n",
    "\n",
    "chart = geemap.chart(ndvi_collection, region=roi.geometry(), reducer=ee.Reducer.mean(), scale=10)\n",
    "chart.style(width='800px', height='300px', position='bottomright')\n",
    "\n",
    "Map.add_child(chart)\n",
    "\n",
    "Map.centerObject(roi.geometry(), 10)\n",
    "Map.addLayer(ndvi_collection.median(), {'min': 0, 'max': 1, 'palette': ['red', 'yellow', 'green']}, 'NDVI')\n",
    "\n",
    "Map\n"
   ]
  }
 ],
 "metadata": {
  "kernelspec": {
   "display_name": "geosense",
   "language": "python",
   "name": "python3"
  },
  "language_info": {
   "codemirror_mode": {
    "name": "ipython",
    "version": 3
   },
   "file_extension": ".py",
   "mimetype": "text/x-python",
   "name": "python",
   "nbconvert_exporter": "python",
   "pygments_lexer": "ipython3",
   "version": "3.10.11"
  },
  "orig_nbformat": 4
 },
 "nbformat": 4,
 "nbformat_minor": 2
}
